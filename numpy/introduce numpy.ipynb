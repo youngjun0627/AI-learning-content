{
 "cells": [
  {
   "cell_type": "markdown",
   "metadata": {},
   "source": [
    "파이썬을 배울 때 list를 다뤄본 적이 있을텐데요. list를 이용하여 배열을 만들어 본적이 있을겁니다. 다음과 같이 말이죠.\n",
    "`arr = [[1,2,3], [4,5,6]]`\n",
    "해당 배열은 2차원 배열로서 크기는 2 x 3이죠. 만약 배열을 두개를 만들어서 합치고 싶다면 어떻게 작성할까요?\n",
    "```\n",
    "arr1 = [[1,2,3], [4,5,6]]\n",
    "arr2 = [[10,10,10], [20,20,20]]\n",
    "result_arr = [[0]*3 for _ in range(2)]\n",
    "for i in range(2):\n",
    "    for j in range(3):\n",
    "        result_arr[i][j] = arr1[i][j] + arr2[i][j]\n",
    "```\n",
    "와 같이 작성하지 않으셨나요?\n",
    "\n",
    "물론 위같이 작성하여 배열끼리 더할 수 있지만 **numpy**를 이용한다면 보다 간단하게 만들수 있습니다. \n",
    "```\n",
    "import numpy as np\n",
    "\n",
    "arr1 = np.array([[1,2,3], [4,5,6]])\n",
    "arr2 = np.array([[10,10,10], [20,20,20]])\n",
    "result_arr = arr1 + arr2\n",
    "print(result_arr)\n",
    "```\n",
    "\n",
    "인공지능 및 딥러닝에서는 여러분이 생각한 것보다 고차원의 행렬을 사용하는데요. 이를 Tensor라고 합니다. 만약 python의 list를 사용하여 고차원의 행렬을 연산한다면 끔찍할 것입니다. 따라서 우리는 앞으로 **numpy**를 사용하여 보다 간단하게 코드를 작성하고 행렬연산을 진행할 것입니다."
   ]
  },
  {
   "cell_type": "code",
   "execution_count": 101,
   "metadata": {},
   "outputs": [
    {
     "name": "stdout",
     "output_type": "stream",
     "text": [
      "[[11 12 13]\n",
      " [24 25 26]]\n"
     ]
    }
   ],
   "source": [
    "import numpy as np\n",
    "\n",
    "arr1 = np.array([[1,2,3], [4,5,6]])\n",
    "arr2 = np.array([[10,10,10], [20,20,20]])\n",
    "result_arr = arr1 + arr2\n",
    "print(result_arr)"
   ]
  },
  {
   "cell_type": "markdown",
   "metadata": {},
   "source": [
    "이제 numpy를 사용하여 여러분들만의 행렬을 만들어 보도록 하겠습니다.\n",
    "numpy 행렬은 다음과 같이 만들수 있습니다.\n",
    "```\n",
    "import numpy as np\n",
    "\n",
    "np_arr = np.array([1,2,3,4,5])\n",
    "\n",
    "#OR\n",
    "\n",
    "arr = [1,2,3,4,5]\n",
    "np_arr = np.array(arr)\n",
    "```\n",
    "`np.array()` 메소드를 사용하여 numpy 행렬을 만들 수 있는데요. 인자값으로 python의 list를 넣어주면 numpy 행렬을 반환해줍니다. 그럼 여러분들만의 numpy 행렬을 만들어주세요.\n",
    "\n",
    "## INPUT\n",
    "param0 : 임의의 정수값, -100<=param0<=100\n",
    "## OUTPUT\n",
    "5 x 5 numpy 행렬을 반환해주세요. 행렬의 원소값은 param0로 넣어주시면 됩니다. \n"
   ]
  },
  {
   "cell_type": "code",
   "execution_count": 102,
   "metadata": {},
   "outputs": [
    {
     "ename": "SyntaxError",
     "evalue": "invalid syntax (<ipython-input-102-fe51ce0a2601>, line 1)",
     "output_type": "error",
     "traceback": [
      "\u001b[1;36m  File \u001b[1;32m\"<ipython-input-102-fe51ce0a2601>\"\u001b[1;36m, line \u001b[1;32m1\u001b[0m\n\u001b[1;33m    @@@\u001b[0m\n\u001b[1;37m     ^\u001b[0m\n\u001b[1;31mSyntaxError\u001b[0m\u001b[1;31m:\u001b[0m invalid syntax\n"
     ]
    }
   ],
   "source": [
    "@@@\n",
    "def solution(param0):\n",
    "    answer = 0\n",
    "    arr = np.array(@@@)\n",
    "    return arr.shape\n",
    "\n",
    "import numpy as np\n",
    "\n",
    "def solution(param0):\n",
    "    answer = 0\n",
    "    arr = np.array([[param0] * 5 for _ in range(5)])\n",
    "    return arr.shape"
   ]
  },
  {
   "cell_type": "markdown",
   "metadata": {},
   "source": [
    "3. numpy 덧셈과 곱셈, for문과의 차이\n",
    "\n",
    "지금까지 여러분은 행렬끼리 더하거나 곱할 때 다음과 같이 작성하였을 겁니다.\n",
    "```\n",
    "arr_A = [1,2,3,4,5]\n",
    "arr_B = [6,7,8,9,10]\n",
    "result = [0] * 5\n",
    "for i, (a,b) in enumerate(zip(arr_A, arr_B)):\n",
    "    result[i] = a+b # or a*b\n",
    "```\n",
    "해당 코드는 1차원 배열끼리의 합 또는 곱을 작업합니다. 만약 1차원이 아니라 100000차원이라면 어떻게 작성하실 건가요? for문을 100000개 만든다? 조금 창의적으로 만든다면 재귀함수로 만들수도 있을겁니다. 그러나 이러한 과정은 간단하지도 않고 복잡할 수 있습니다. 따라서 우리는 직관적으로 행렬연산을 할 수 있는 도구가 필요합니다. **그게 바로 numpy 입니다**\n",
    "```\n",
    "arr_A = np.array([1,2,3,4,5])\n",
    "arr_B = np.array([6,7,8,9,10])\n",
    "result = arr_A + arr_B\n",
    "```"
   ]
  },
  {
   "cell_type": "code",
   "execution_count": 103,
   "metadata": {},
   "outputs": [
    {
     "name": "stdout",
     "output_type": "stream",
     "text": [
      "[[2, 3, 4], [5, 7, 8]]\n"
     ]
    }
   ],
   "source": [
    "### 실습문제\n",
    "\n",
    "#한줄넣기로 만들기\n",
    "a = np.array([[1,2,3],[4,5,6]])\n",
    "b = np.array([[1,1,1],[1,2,2]])\n",
    "result = a+b\n",
    "print(result.tolist())"
   ]
  },
  {
   "cell_type": "markdown",
   "metadata": {},
   "source": [
    "4. 1차원 배열의 인덱싱 및 슬라이싱\n",
    "\n",
    "이제 여러분은 행렬연산을 자유자재로 할 수 있을겁니다. 그렇다면 이번 시간에는 행렬안에 원소를 찾는 과정을 하려고 합니다.\n",
    "numpy는 파이썬의 list와 비슷하면서도 다르다는 것을 여러분들이 몸소 느끼셨을 겁니다.\n",
    "이번 시간에는 파이썬과 매우 흡사한 방식으로 진행됩니다.\n",
    "```\n",
    "arr = [1,2,3,4,5,6,7,8,9,10]\n",
    "print(arr[8]) # 9\n",
    "print(arr[3:7]) # [4, 5, 6, 7] -> type: list\n",
    "```\n",
    "해당 작업을 인덱싱 및 슬라이싱으로 배우셨을 텐데요. numpy에서도 인덱싱 및 슬라이싱을 할 수가 있습니다.\n",
    "```\n",
    "arr = [1,2,3,4,5,6,7,8,9,10]\n",
    "print(arr[8]) # 9\n",
    "print(arr[3:7]) # [4 5 6 7] -> type: numpy\n",
    "```\n",
    "파이썬의 list와 동일하게 출력되지만 타입이 다른다는 것을 꼭 명심하세요!"
   ]
  },
  {
   "cell_type": "markdown",
   "metadata": {},
   "source": [
    "5. 2차원 배열의 인덱싱\n",
    "\n",
    "여러분 앞에 다음과 같이 생긴 그림판이 있다고 가정합시다.\n",
    "#### picture\n",
    "```\n",
    "1 2 3 4 5 6 7 8 9 10\n",
    "2 3 4 5 6 7 8 9 10 1\n",
    "3 4 5 6 7 8 9 10 1 2\n",
    "...\n",
    "10 1 2 3 4 5 6 7 8 9\n",
    "```\n",
    "그리고 여러분은 해당 그림판을 볼때마다 프로그래밍 시간때 지겹도록 봤던 2차원 행렬이 떠올라 다음과 같이 낙서를 하려고 합니다.\n",
    "#### graffiti\n",
    "```\n",
    "(3,3)부터 (7,7)까지 모두 100으로 만들겠다\n",
    "```\n",
    "그럼 여러분은 어떻게 코드를 작성할 건가요?\n",
    "```\n",
    "for i in range(3,8):\n",
    "    for j in range(3,8):\n",
    "        board[i][j]=100\n",
    "```\n",
    "위와 같이 작성하지 않으셨나요? \n",
    "그러나 numpy를 활용한다면 코드 한줄로 낙서를 할 수가 있습니다. 이렇게 말이죠\n",
    "```\n",
    "board[3:8, 3:8] = 100\n",
    "```\n",
    "\n",
    "만약 그림판에 곰팡이가 생겨서 다음과 같이 그림이 변했다고 가정해봅시다.\n",
    "```\n",
    "(2,2)부터 (4,6)까지 곰팡이로 인해 픽셀값들이 0.5배가 되었다.\n",
    "```\n",
    "그럼 여러분은 어떻게 코드를 작성할 건가요?\n",
    "```\n",
    "for i in range(2,5):\n",
    "    for j in range(2,7):\n",
    "        board[i][j] *= 0.5\n",
    "```\n",
    "위와 같이 작성하지 않으셨나요? \n",
    "그러나 numpy를 활용한다면 코드 한줄로 낙서를 할 수가 있습니다. 이렇게 말이죠\n",
    "```\n",
    "board[2:5, 2:7] = board[2:5, 2:7] * 0.5\n",
    "```\n",
    "이처럼 numpy의 인덱싱 및 슬라이싱을 활용하여 직관적으로 행렬연산을 진행할 수 있습니다. 앞으로 여러분들이 공부하게될 딥러닝에는 수많은 행렬연산이 진행될 것입니다. 위처럼 행렬연산을 진행한다면 코드를 구현하는데 쉽게 이해하고 작성할 수 있을겁니다. 다음 실습을 풀어보면서 이해를 해보도록 합시다.\n",
    "### hint\n",
    "zero-division을 고려해보자"
   ]
  },
  {
   "cell_type": "code",
   "execution_count": 104,
   "metadata": {},
   "outputs": [
    {
     "name": "stdout",
     "output_type": "stream",
     "text": [
      "[[9.99900010e-02 9.99950002e-02 3.00000000e+03]\n",
      " [5.71346950e-01 5.00000000e+03 8.57020426e-01]]\n"
     ]
    }
   ],
   "source": [
    "#실습\n",
    "\n",
    "### 행렬에서 나누기 연산을 진행시키기\n",
    "### zero-division 에러를 어떻게 처리하는지 확인해보자\n",
    "\n",
    "A = np.array([[1,2,3],[4,5,6]])\n",
    "B = np.array([[10,20,0],[7,0,7]])\n",
    "result = A/(B+1e-3)\n",
    "print(result)"
   ]
  },
  {
   "cell_type": "markdown",
   "metadata": {},
   "source": [
    "6. logical operation & numpy의 강력한 인덱싱\n",
    "\n",
    "여러분들은 지금까지 인덱싱 및 슬라이싱을 배웠습니다. 그러나 numpy에는 강력한 인덱싱 기능이 숨겨져 있습니다.이를 배우기에 앞서 logical operation에 대해 배워보고자 합니다. 지금까지 파이썬을 공부하면서 if문을 공부하셨을 겁니다. 논리연산은 numpy에서 특별하게 적용됩니다.\n",
    "```\n",
    "A = np.array([1,2,3,4,5,4,3,2,1])\n",
    "A>=4 # array([False, False, False,  True,  True,  True, False, False, False]) 가 출력\n",
    "```\n",
    "행렬 자체에 조건문을 걸어 통과한 원소들에게 True, 그렇지 않다면 False를 갖는 numpy 행렬을 반환합니다. 그럼 이 기능을 사용해서 인덱싱을 해봅시다.\n",
    "```\n",
    "A = np.array([1,2,3,4,5,4,3,2,1])\n",
    "B = A>=4 \n",
    "A[B] # array([4, 5, 4]) 출력\n",
    "```\n",
    "numpy 행렬에 bool 행렬을 인덱스로 넣어준다면 True인 원소들만 추출할 수 있습니다. 이는 numpy의 강력한 인덱싱 기법입니다. 그리고 해당 코드는 더욱 간단하고 직관적으로 만들 수 있습니다.\n",
    "```\n",
    "A = np.array([1,2,3,4,5,4,3,2,1])\n",
    "A[A>=4] # array([4, 5, 4]) 출력\n",
    "```\n",
    "만약 여러분들이 특정 구간의 해당하는 원소값들만을 추출하고 싶다면 다음과 같이 작성할 수 있습니다.\n",
    "```\n",
    "A = np.array([1,2,3,4,5,4,3,2,1])\n",
    "A[(1<A) and (A<=3)] # error 발생\n",
    "A[(1<A) & (A<=3)] # array([2, 3, 3, 2]) 출력\n",
    "```\n",
    "이때 **and**, **or** 을 넣으면 에러가 발생하니 명심하셔야 합니다.\n",
    "\n",
    "그럼 여러분들이 실습 문제를 풀어보면서 이해하는 시간을 가져보겠습니다."
   ]
  },
  {
   "cell_type": "code",
   "execution_count": 105,
   "metadata": {},
   "outputs": [
    {
     "data": {
      "text/plain": [
       "[[9, 9, 3, 7],\n",
       " [23, 26, 41, 25, 17],\n",
       " [10, 14, 15, 11, 12, 15, 13],\n",
       " [0, 0, 0, 0, 15, 0, 23, 26, 41, 25, 0, 15, 0, 0, 17, 0],\n",
       " [0, 0, 0, 0, 225, 0, 529, 676, 1681, 625, 0, 225, 0, 0, 289, 0]]"
      ]
     },
     "execution_count": 105,
     "metadata": {},
     "output_type": "execute_result"
    }
   ],
   "source": [
    "import numpy as np\n",
    "import copy\n",
    "def solution(A):\n",
    "    A = np.array(A)\n",
    "    a = A[A<10]\n",
    "    b = A[A>15]\n",
    "    c = A[(10<=A) & (A<=15)]\n",
    "    d = A[:]\n",
    "    d[(10>A) | (A<15)] = 0\n",
    "    e = A*d\n",
    "    return [a.tolist(),b.tolist(),c.tolist(),d.tolist(),e.tolist()]\n",
    "A = [10,14,9,9,15,11,23,26,41,25,12,15,13,3,17,7]\n",
    "solution(A)"
   ]
  },
  {
   "cell_type": "code",
   "execution_count": 106,
   "metadata": {},
   "outputs": [
    {
     "data": {
      "text/plain": [
       "array([1, 0, 0, 4, 5, 4, 0, 0, 1])"
      ]
     },
     "execution_count": 106,
     "metadata": {},
     "output_type": "execute_result"
    }
   ],
   "source": [
    "# 실습\n",
    "### 3차원 배열로 하자\n",
    "A = [[[i*k-j for i in range(1,4)] for j in range(4,7)] for k in range(7,10)]\n",
    "A = np.array(A)\n",
    "A[(A<10) | (A>15)]=0\n",
    "A\n",
    "\n",
    "A = np.array([1,2,3,4,5,4,3,2,1])\n",
    "#A[(1<A) and (A<=3)] # error 발생\n",
    "A[(1<A) & (A<=3)] = 0# array([2, 3, 3, 2])\n",
    "A"
   ]
  },
  {
   "cell_type": "markdown",
   "metadata": {},
   "source": [
    "7. broadcasting\n",
    "\n",
    "numpy의 강력한 기능 중 하나인 브로드캐스팅을 소개하고자 합니다. 우선 여러분들에게 한가지 질문이 있습니다. 다음과 같이 행렬이 존재한다고 가정합시다.\n",
    "```\n",
    "[[10,10,10,20,20],\n",
    "[21,87,31,25,64],\n",
    "[16,39,10,23,30],\n",
    "[88,13,52,12,47],\n",
    "[53,23,41,16,73]]\n",
    "```\n",
    "여러분은 위 행렬의 모든 원소에 13을 더해주고 싶습니다. 그렇다면 어떻게 작성할 건가요?\n",
    "```\n",
    "A = [[10,10,10,20,20],\n",
    "[21,87,31,25,64],\n",
    "[16,39,10,23,30],\n",
    "[88,13,52,12,47],\n",
    "[53,23,41,16,73]]\n",
    "A = np.array(A)\n",
    "B = np.array([[13]*5 for _ in range(5)])\n",
    "result = A+B\n",
    "'''\n",
    "# 출력\n",
    "[[ 23  23  23  33  33]\n",
    " [ 34 100  44  38  77]\n",
    " [ 29  52  23  36  43]\n",
    " [101  26  65  25  60]\n",
    " [ 66  36  54  29  86]]\n",
    "'''\n",
    "```\n",
    "와 같이 작성하지 않았나요? 물론 위 방법이 틀린 것은 아닙니다. 여러분들은 A 행렬 크기를 가지고 원소들이 13인 행렬 B를 만들고 행렬연산을 해줬습니다. 그러나 위의 방법보다 간단하고 직관적인 방법이 있습니다.\n",
    "```\n",
    "A = [[10,10,10,20,20],\n",
    "[21,87,31,25,64],\n",
    "[16,39,10,23,30],\n",
    "[88,13,52,12,47],\n",
    "[53,23,41,16,73]]\n",
    "A = np.array(A)\n",
    "result = A + 13\n",
    "'''\n",
    "# 출력\n",
    "[[ 23  23  23  33  33]\n",
    " [ 34 100  44  38  77]\n",
    " [ 29  52  23  36  43]\n",
    " [101  26  65  25  60]\n",
    " [ 66  36  54  29  86]]\n",
    "'''\n",
    "```\n",
    "바로 13을 더해주었는데 위와 동일하게 출력이 되었습니다. 이는 numpy에서 자동으로 행렬의 크기를 맞춰서 진행해주었기 때문입니다. 이를 브로드캐스팅이라고 합니다. 직관적으로 수행할 수 있는 연산이라면 numpy에서 대신 수행해주는 것이죠. 만약 직관적이지 못한 행렬연산을 요구한다면 어떻게 될까요?\n",
    "```\n",
    "import numpy as np\n",
    " \n",
    "A = np.array([[11,10,15],[76,31,23]])\n",
    " \n",
    "B = np.array([1])\n",
    " \n",
    "C = np.array([1,2,3])\n",
    "\n",
    "D = np.array([10,41])\n",
    "\n",
    "print(A*B) # [[11 10 15] [76 31 23]] 출력\n",
    "\n",
    "print(A*C) # [[11 20 45] [76 62 69]] 출력\n",
    "\n",
    "print(A*D) # operands could not be broadcast together with shapes (2,3) (2,) error 발생!\n",
    "```\n",
    "A * B의 경우 B(1 x 1)를 2 x 3으로 크기를 맞춰서 연산합니다.\n",
    "A * C의 경우 B(1 x 3)를 2 x 3으로 크기를 맞춰서 연산합니다.\n",
    "A * D의 경우 B(1 x 2)를 2 x 3으로 자동으로 크기를 맞춰줄 수 없습니다.\n",
    "즉, numpy가 수행할 때 직관적으로 자동으로 크기를 맞춰줄 수 없다면 브로드캐스팅이 불가능합니다. "
   ]
  },
  {
   "cell_type": "code",
   "execution_count": 107,
   "metadata": {},
   "outputs": [
    {
     "name": "stdout",
     "output_type": "stream",
     "text": [
      "[[11 10 15]\n",
      " [76 31 23]]\n",
      "[[11 20 45]\n",
      " [76 62 69]]\n"
     ]
    },
    {
     "ename": "ValueError",
     "evalue": "operands could not be broadcast together with shapes (2,3) (2,) ",
     "output_type": "error",
     "traceback": [
      "\u001b[1;31m---------------------------------------------------------------------------\u001b[0m",
      "\u001b[1;31mValueError\u001b[0m                                Traceback (most recent call last)",
      "\u001b[1;32m<ipython-input-107-14c4d40b510d>\u001b[0m in \u001b[0;36m<module>\u001b[1;34m\u001b[0m\n\u001b[0;32m     12\u001b[0m \u001b[0mprint\u001b[0m\u001b[1;33m(\u001b[0m\u001b[0mA\u001b[0m\u001b[1;33m*\u001b[0m\u001b[0mC\u001b[0m\u001b[1;33m)\u001b[0m \u001b[1;31m# [[11,10,15],[76,31,23]] 출력\u001b[0m\u001b[1;33m\u001b[0m\u001b[1;33m\u001b[0m\u001b[0m\n\u001b[0;32m     13\u001b[0m \u001b[1;33m\u001b[0m\u001b[0m\n\u001b[1;32m---> 14\u001b[1;33m \u001b[0mprint\u001b[0m\u001b[1;33m(\u001b[0m\u001b[0mA\u001b[0m\u001b[1;33m*\u001b[0m\u001b[0mD\u001b[0m\u001b[1;33m)\u001b[0m\u001b[1;33m\u001b[0m\u001b[1;33m\u001b[0m\u001b[0m\n\u001b[0m",
      "\u001b[1;31mValueError\u001b[0m: operands could not be broadcast together with shapes (2,3) (2,) "
     ]
    }
   ],
   "source": [
    "# 실습\n",
    "A = np.array([[11,10,15],[76,31,23]])\n",
    " \n",
    "B = np.array([1])\n",
    " \n",
    "C = np.array([1,2,3])\n",
    "\n",
    "D = np.array([10,41])\n",
    "\n",
    "print(A*B) # [[11,10,15],[76,31,23]] 출력\n",
    "\n",
    "print(A*C) # [[11,10,15],[76,31,23]] 출력\n",
    "\n",
    "print(A*D)"
   ]
  },
  {
   "cell_type": "markdown",
   "metadata": {},
   "source": [
    "8. numpy의 다양한 메소드\n",
    "\n",
    "numpy는 행렬연산에 필요한 다양한 메소드들을 가지고 있습니다.\n",
    "해당 과정에서는 주로 사용하는 메소드 몇가지만 소개하고자 합니다.\n",
    "(더 많은 메소드들을 알고싶다면 https://numpy.org/doc/stable/reference/generated/numpy.ndarray.html 를 참고하세요)\n",
    "1. sum\n",
    "행렬의 모든 값을 더한 값을 반환합니다.\n",
    "```\n",
    "arr = np.array([1,2,3,4,5])\n",
    "arr.sum() # 15 출력\n",
    "```\n",
    "2. dot\n",
    "행렬 곱연산을 수행합니다\n",
    "```\n",
    "A = np.array([[1,2],[2,3]])\n",
    "B = np.array([[4,1],[6,7]])\n",
    "result = A.dot(B) # [[16 15] [26 23]] 출력\n",
    "result = A * B # [[4 2] [12 21]] 출력\n",
    "```\n",
    "이때 A.dot(B)와 A * B와 다르다는 것을 명심하세요. A * B는 같은 인덱스를 지닌 원소끼리의 곱연산을 진행합니다.\n",
    "\n",
    "3. reshape\n",
    "```\n",
    "A = np.array([[1,2,3],[4,5,6]])\n",
    "print(A.shape) # (2,3) 출력\n",
    "B = A.reshape(3,2) # [[1 2] [3 4] [5 6]]\n",
    "C = A.reshape(-1) # [1 2 3 4 5 6]\n",
    "D = A.reshape(1, -1) # [[1 2 3 4 5 6]]\n",
    "E = A.reshape(4,3) # cannot reshape array of size 6 into shape (4, 3) error 발생!\n",
    "```\n",
    "A의 크기를 자유자재로 바꿀 수 있는 reshape함수입니다. 특히 인자값으로 -1을 주면 numpy가 알아서 배열크기를 맞춰줍니다. 그러나 원래 배열의 크기를 고려하지 않은 채 배열의 크기를 조절한다면 에러가 발생합니다.\n",
    "\n",
    "4. squeeze\n",
    "```\n",
    "A = np.array([[[1,2,3,4,5,6],[1,2,3,4,5,6]]])\n",
    "B = A.squeeze(0) # 0번째 차원을 없앤다. [[1 2 3 4 5 6] [1 2 3 4 5 6]] 출력\n",
    "C = B.squeeze(0) # cannot select an axis to squeeze out which has size not equal to one Error 발생!\n",
    "```\n",
    "squeeze는 쥐어짠다는 의미에 맞게 인자값으로 준 차원이 1이라면 해당 차원을 지워줍니다. 예시에서 보여준 것과 같이 1 x 2 x 6 행렬을 2 x 6으로 바꿔줍니다. 이때 squeeze할 차원의 크기가 1이 아니라면 에러를 발생시킵니다.\n",
    "\n",
    "5. expand_dims(unsqueeze)\n",
    "```\n",
    "A = np.array([[[1,2,3,4,5,6],[1,2,3,4,5,6]]])\n",
    "B = A.squeeze(0) 0차원을 없앤다. [[1 2 3 4 5 6] [1 2 3 4 5 6]] 출력\n",
    "C = np.expand_dims(B, 0) # 0차원으로 확장한다. [[[1 2 3 4 5 6] [1 2 3 4 5 6]]] 출력\n",
    "```\n",
    "expand_dims는 해당 배열의 차원을 늘려주는 역할을 합니다.\n",
    "\n",
    "딥러닝에서는 데이터와 모델 모두 행렬(정확히는 Tensor)로 이루어져 있습니다. 우리가 선형대수학에서 배웠던 것과 같이 행렬 연산할 때는 크기 및 차원이 중요합니다. 여러분들은 numpy 메소드들을 사용하여 행렬 연산을 하는 것 뿐만 아니라 행렬의 크기 및 차원을 조절할 줄 알아야 합니다"
   ]
  },
  {
   "cell_type": "code",
   "execution_count": 108,
   "metadata": {},
   "outputs": [
    {
     "name": "stdout",
     "output_type": "stream",
     "text": [
      "[[[1 2 3 4 5 6]\n",
      "  [1 2 3 4 5 6]]]\n"
     ]
    }
   ],
   "source": [
    "A = np.array([[[1,2,3,4,5,6],[1,2,3,4,5,6]]])\n",
    "B = A.squeeze(0)\n",
    "C = np.expand_dims(B, 0)\n",
    "print(C)"
   ]
  },
  {
   "cell_type": "code",
   "execution_count": 109,
   "metadata": {},
   "outputs": [
    {
     "data": {
      "text/plain": [
       "'\\n실습\\n3 x 224 x 224 행렬을 만들어보세요. element 값은 임의로 정하셔도 됩니다.\\n'"
      ]
     },
     "execution_count": 109,
     "metadata": {},
     "output_type": "execute_result"
    }
   ],
   "source": [
    "'''\n",
    "numpy행렬은 numpy.array(<list>)를 통해 간단히 만들 수 있습니다.\n",
    "'''\n",
    "arr = [1,2,3,4,5]\n",
    "np_arr = np.array(arr)\n",
    "\n",
    "np_arr = np.array([1,2,3,4,5]) # direct로도 가능\n",
    "\n",
    "arr = [[1,2,3],[4,5,6]]\n",
    "np_arr = np.array(arr) # 2차원도 가능\n",
    "\n",
    "'''\n",
    "n차원 행렬도 위와 같이 만들 수 있습니다.\n",
    "'''\n",
    "\n",
    "'''\n",
    "실습\n",
    "3 x 224 x 224 행렬을 만들어보세요. element 값은 임의로 정하셔도 됩니다.\n",
    "'''\n"
   ]
  },
  {
   "cell_type": "markdown",
   "metadata": {},
   "source": [
    "3. for문과 numpy의 차이"
   ]
  },
  {
   "cell_type": "code",
   "execution_count": 110,
   "metadata": {},
   "outputs": [],
   "source": [
    "arr = [10,20,30,40,50]\n",
    "# arr = arr / 10는 에러 발생!!\n",
    "\n",
    "for i in range(5):\n",
    "    arr[i] = arr[i]/10\n",
    "\n",
    "arr = np.array([10, 20, 30, 40 ,50])\n",
    "arr = arr/10"
   ]
  },
  {
   "cell_type": "markdown",
   "metadata": {},
   "source": [
    "4. numpy의 덧셈과 곱셈"
   ]
  },
  {
   "cell_type": "code",
   "execution_count": 111,
   "metadata": {},
   "outputs": [
    {
     "name": "stdout",
     "output_type": "stream",
     "text": [
      "[ 5 10 15 20 25]\n",
      "[ 5 10 15 20 25]\n",
      "[[2 3 4]\n",
      " [5 6 7]]\n",
      "[[2 3 4]\n",
      " [5 6 7]]\n"
     ]
    },
    {
     "ename": "ValueError",
     "evalue": "operands could not be broadcast together with shapes (2,3) (2,) ",
     "output_type": "error",
     "traceback": [
      "\u001b[1;31m---------------------------------------------------------------------------\u001b[0m",
      "\u001b[1;31mValueError\u001b[0m                                Traceback (most recent call last)",
      "\u001b[1;32m<ipython-input-111-a04e426f5623>\u001b[0m in \u001b[0;36m<module>\u001b[1;34m\u001b[0m\n\u001b[0;32m     48\u001b[0m \u001b[0mresult_arr\u001b[0m \u001b[1;33m=\u001b[0m \u001b[0marr1\u001b[0m \u001b[1;33m+\u001b[0m \u001b[1;36m1\u001b[0m \u001b[1;31m# broadcasting\u001b[0m\u001b[1;33m\u001b[0m\u001b[1;33m\u001b[0m\u001b[0m\n\u001b[0;32m     49\u001b[0m \u001b[0mprint\u001b[0m\u001b[1;33m(\u001b[0m\u001b[0mresult_arr\u001b[0m\u001b[1;33m)\u001b[0m\u001b[1;33m\u001b[0m\u001b[1;33m\u001b[0m\u001b[0m\n\u001b[1;32m---> 50\u001b[1;33m \u001b[0mresult_arr\u001b[0m \u001b[1;33m=\u001b[0m \u001b[0marr1\u001b[0m \u001b[1;33m+\u001b[0m \u001b[0marr3\u001b[0m \u001b[1;31m# error 발생 -> arr1과 arr3의 행렬 크기가 맞지 않아서 자동으로 못맞춤\u001b[0m\u001b[1;33m\u001b[0m\u001b[1;33m\u001b[0m\u001b[0m\n\u001b[0m\u001b[0;32m     51\u001b[0m \u001b[0mprint\u001b[0m\u001b[1;33m(\u001b[0m\u001b[0mresult_arr\u001b[0m\u001b[1;33m)\u001b[0m\u001b[1;33m\u001b[0m\u001b[1;33m\u001b[0m\u001b[0m\n\u001b[0;32m     52\u001b[0m '''\n",
      "\u001b[1;31mValueError\u001b[0m: operands could not be broadcast together with shapes (2,3) (2,) "
     ]
    }
   ],
   "source": [
    "'''\n",
    "list의 덧셈\n",
    "'''\n",
    "arr1 = [1,2,3,4,5]\n",
    "arr2 = [5,4,3,2,1]\n",
    "result_arr = [0] * 5\n",
    "for i in range(5):\n",
    "    result_arr[i] = arr1[i] + arr2[i]\n",
    "    \n",
    "'''\n",
    "numpy의 덧셈\n",
    "'''\n",
    "arr1 = np.array([1,2,3,4,5])\n",
    "arr2 = np.array([5,4,3,2,1])\n",
    "result_arr = arr1 + arr2\n",
    "\n",
    "'''\n",
    "list의 곱셈\n",
    "'''\n",
    "arr1 = [1,2,3,4,5]\n",
    "arr2 = [5,4,3,2,1]\n",
    "result_arr = [0] * 5\n",
    "for i in range(5):\n",
    "    result_arr[i] = arr1[i] + arr2[i]\n",
    "    \n",
    "'''\n",
    "numpy의 곱셈\n",
    "'''\n",
    "arr1 = np.array([1,2,3,4,5])\n",
    "arr2 = np.array([5,5,5,5,5])\n",
    "result_arr = arr1 * arr2\n",
    "print(result_arr)\n",
    "result_arr = arr1 * 5 # broadcasting\n",
    "print(result_arr)\n",
    "\n",
    "'''\n",
    "앞서 언급했던 broadcasting에 대하여\n",
    "broadcasting은 numpy 연산이 이루어 질 때 자동으로 행렬크기를 맞춰서 연산을 진행하는 것인데요.\n",
    "아래 예시를 보면서 확인해보시죠\n",
    "ref : https://appia.tistory.com/184\n",
    "'''\n",
    "\n",
    "arr1 = np.array([[1,2,3],[4,5,6]])\n",
    "arr2 = np.array([1])\n",
    "arr3 = np.array([1,1])\n",
    "result_arr = arr1 + arr2 # broadcasting\n",
    "print(result_arr)\n",
    "result_arr = arr1 + 1 # broadcasting\n",
    "print(result_arr)\n",
    "result_arr = arr1 + arr3 # error 발생 -> arr1과 arr3의 행렬 크기가 맞지 않아서 자동으로 못맞춤\n",
    "print(result_arr)\n",
    "'''\n",
    "실습넣기\n",
    "'''"
   ]
  },
  {
   "cell_type": "markdown",
   "metadata": {},
   "source": [
    "5. 배열 인덱싱 & 슬라이싱"
   ]
  },
  {
   "cell_type": "code",
   "execution_count": 112,
   "metadata": {},
   "outputs": [
    {
     "name": "stdout",
     "output_type": "stream",
     "text": [
      "[4, 5, 6, 7]\n",
      "[4 5 6 7]\n",
      "[[12 15 18 21]\n",
      " [16 20 24 28]\n",
      " [20 25 30 35]]\n"
     ]
    },
    {
     "data": {
      "text/plain": [
       "'\\n실습 넣기\\n'"
      ]
     },
     "execution_count": 112,
     "metadata": {},
     "output_type": "execute_result"
    }
   ],
   "source": [
    "# list\n",
    "arr = [i for i in range(1, 11)]\n",
    "print(arr[3:7])\n",
    "\n",
    "# numpy\n",
    "arr = np.array([i for i in range(1, 11)])\n",
    "print(arr[3:7])\n",
    "\n",
    "'''\n",
    "2차원으로 해보자\n",
    "'''\n",
    "\n",
    "arr = np.array([[i*j for i in range(1,11)] for j in range(1, 11)])\n",
    "print(arr[2:5,3:7])\n",
    "'''\n",
    "실습 넣기\n",
    "'''"
   ]
  },
  {
   "cell_type": "markdown",
   "metadata": {},
   "source": [
    "6. numpy에서 조건문 만들기"
   ]
  },
  {
   "cell_type": "code",
   "execution_count": 113,
   "metadata": {},
   "outputs": [
    {
     "name": "stdout",
     "output_type": "stream",
     "text": [
      "[[False False False False False False False False False False]\n",
      " [False False False False False  True  True  True  True  True]\n",
      " [False False False  True  True  True  True  True  True  True]\n",
      " [False False  True  True  True  True  True  True  True  True]\n",
      " [False False  True  True  True  True  True  True  True  True]\n",
      " [False  True  True  True  True  True  True  True  True  True]\n",
      " [False  True  True  True  True  True  True  True  True  True]\n",
      " [False  True  True  True  True  True  True  True  True  True]\n",
      " [False  True  True  True  True  True  True  True  True  True]\n",
      " [False  True  True  True  True  True  True  True  True  True]]\n",
      "[ 12  14  16  18  20  12  15  18  21  24  27  30  12  16  20  24  28  32\n",
      "  36  40  15  20  25  30  35  40  45  50  12  18  24  30  36  42  48  54\n",
      "  60  14  21  28  35  42  49  56  63  70  16  24  32  40  48  56  64  72\n",
      "  80  18  27  36  45  54  63  72  81  90  20  30  40  50  60  70  80  90\n",
      " 100]\n"
     ]
    },
    {
     "data": {
      "text/plain": [
       "'\\n실습 20~50사이의 숫자만 np array로 반환\\n'"
      ]
     },
     "execution_count": 113,
     "metadata": {},
     "output_type": "execute_result"
    }
   ],
   "source": [
    "'''\n",
    "numpy에서는 사칙연산 뿐만 아니라 logical 연산도 가능합니다.\n",
    "'''\n",
    "arr = np.array([[i*j for i in range(1,11)] for j in range(1, 11)])\n",
    "print(arr>10)\n",
    "print(arr[arr>10])\n",
    "\n",
    "'''\n",
    "실습 20~50사이의 숫자만 np array로 반환\n",
    "'''"
   ]
  },
  {
   "cell_type": "markdown",
   "metadata": {},
   "source": [
    "numpy의 다양한 메소드"
   ]
  },
  {
   "cell_type": "code",
   "execution_count": 114,
   "metadata": {},
   "outputs": [
    {
     "name": "stdout",
     "output_type": "stream",
     "text": [
      "3025\n",
      "[[  385   770  1155  1540  1925  2310  2695  3080  3465  3850]\n",
      " [  770  1540  2310  3080  3850  4620  5390  6160  6930  7700]\n",
      " [ 1155  2310  3465  4620  5775  6930  8085  9240 10395 11550]\n",
      " [ 1540  3080  4620  6160  7700  9240 10780 12320 13860 15400]\n",
      " [ 1925  3850  5775  7700  9625 11550 13475 15400 17325 19250]\n",
      " [ 2310  4620  6930  9240 11550 13860 16170 18480 20790 23100]\n",
      " [ 2695  5390  8085 10780 13475 16170 18865 21560 24255 26950]\n",
      " [ 3080  6160  9240 12320 15400 18480 21560 24640 27720 30800]\n",
      " [ 3465  6930 10395 13860 17325 20790 24255 27720 31185 34650]\n",
      " [ 3850  7700 11550 15400 19250 23100 26950 30800 34650 38500]]\n",
      "False\n",
      "True\n",
      "[[  1   2   3   4   5   6   7   8   9  10   2   4   6   8  10  12  14  16\n",
      "   18  20]\n",
      " [  3   6   9  12  15  18  21  24  27  30   4   8  12  16  20  24  28  32\n",
      "   36  40]\n",
      " [  5  10  15  20  25  30  35  40  45  50   6  12  18  24  30  36  42  48\n",
      "   54  60]\n",
      " [  7  14  21  28  35  42  49  56  63  70   8  16  24  32  40  48  56  64\n",
      "   72  80]\n",
      " [  9  18  27  36  45  54  63  72  81  90  10  20  30  40  50  60  70  80\n",
      "   90 100]]\n",
      "[[  1   2   3   4   5   6   7   8   9  10   2   4   6   8  10  12  14  16\n",
      "   18  20   3   6   9  12  15  18  21  24  27  30   4   8  12  16  20  24\n",
      "   28  32  36  40   5  10  15  20  25  30  35  40  45  50   6  12  18  24\n",
      "   30  36  42  48  54  60   7  14  21  28  35  42  49  56  63  70   8  16\n",
      "   24  32  40  48  56  64  72  80   9  18  27  36  45  54  63  72  81  90\n",
      "   10  20  30  40  50  60  70  80  90 100]]\n",
      "[  1   2   3   4   5   6   7   8   9  10   2   4   6   8  10  12  14  16\n",
      "  18  20   3   6   9  12  15  18  21  24  27  30   4   8  12  16  20  24\n",
      "  28  32  36  40   5  10  15  20  25  30  35  40  45  50   6  12  18  24\n",
      "  30  36  42  48  54  60   7  14  21  28  35  42  49  56  63  70   8  16\n",
      "  24  32  40  48  56  64  72  80   9  18  27  36  45  54  63  72  81  90\n",
      "  10  20  30  40  50  60  70  80  90 100]\n",
      "[  1   2   3   4   5   6   7   8   9  10   2   4   6   8  10  12  14  16\n",
      "  18  20   3   6   9  12  15  18  21  24  27  30   4   8  12  16  20  24\n",
      "  28  32  36  40   5  10  15  20  25  30  35  40  45  50   6  12  18  24\n",
      "  30  36  42  48  54  60   7  14  21  28  35  42  49  56  63  70   8  16\n",
      "  24  32  40  48  56  64  72  80   9  18  27  36  45  54  63  72  81  90\n",
      "  10  20  30  40  50  60  70  80  90 100]\n",
      "[  1   2   3   4   5   6   7   8   9  10   2   4   6   8  10  12  14  16\n",
      "  18  20   3   6   9  12  15  18  21  24  27  30   4   8  12  16  20  24\n",
      "  28  32  36  40   5  10  15  20  25  30  35  40  45  50   6  12  18  24\n",
      "  30  36  42  48  54  60   7  14  21  28  35  42  49  56  63  70   8  16\n",
      "  24  32  40  48  56  64  72  80   9  18  27  36  45  54  63  72  81  90\n",
      "  10  20  30  40  50  60  70  80  90 100]\n",
      "[[  1   2   3   4   5   6   7   8   9  10   2   4   6   8  10  12  14  16\n",
      "   18  20   3   6   9  12  15  18  21  24  27  30   4   8  12  16  20  24\n",
      "   28  32  36  40   5  10  15  20  25  30  35  40  45  50   6  12  18  24\n",
      "   30  36  42  48  54  60   7  14  21  28  35  42  49  56  63  70   8  16\n",
      "   24  32  40  48  56  64  72  80   9  18  27  36  45  54  63  72  81  90\n",
      "   10  20  30  40  50  60  70  80  90 100]]\n"
     ]
    }
   ],
   "source": [
    "arr1 = np.array([[i*j for i in range(1,11)] for j in range(1, 11)])\n",
    "arr2 = np.array([[i*j for i in range(1,11)] for j in range(1, 11)])\n",
    "print(arr1.sum())\n",
    "print(arr1.dot(arr2))\n",
    "print((arr1>20).all())\n",
    "print((arr1>20).any())\n",
    "print((arr1.reshape(5,20)))\n",
    "print((arr1.reshape(1,100)))\n",
    "print((arr1.reshape(100)))\n",
    "print((arr1.reshape(-1)))\n",
    "\n",
    "print((arr1.reshape(1,100).squeeze(0)))\n",
    "print(np.expand_dims(arr1.reshape(100), 0))"
   ]
  },
  {
   "cell_type": "code",
   "execution_count": 115,
   "metadata": {},
   "outputs": [
    {
     "data": {
      "text/plain": [
       "[array([[ 0.49671415, -0.1382643 ,  0.64768854,  1.52302986],\n",
       "        [-0.23415337, -0.23413696,  1.57921282,  0.76743473],\n",
       "        [-0.46947439,  0.54256004, -0.46341769, -0.46572975]]),\n",
       " array([[ 0.24196227, -1.91328024, -1.72491783, -0.56228753],\n",
       "        [-1.01283112,  0.31424733, -0.90802408, -1.4123037 ],\n",
       "        [ 1.46564877, -0.2257763 ,  0.0675282 , -1.42474819]]),\n",
       " array([[ 0.12018608,  0.26453836, -1.11720951, -0.85638069],\n",
       "        [ 0.23715782, -0.07357691, -1.43396326, -1.08385091],\n",
       "        [-0.68808456, -0.1224972 , -0.03129376,  0.66354762]]),\n",
       " array([[ 0.24196227, -1.91328024, -1.72491783],\n",
       "        [-0.56228753, -1.01283112,  0.31424733],\n",
       "        [-0.90802408, -1.4123037 ,  1.46564877],\n",
       "        [-0.2257763 ,  0.0675282 , -1.42474819]]),\n",
       " array([[-0.73405046, -1.62220044, -2.1208904 ],\n",
       "        [-1.53223582, -1.49336239,  1.5514885 ],\n",
       "        [ 0.10727533,  0.971751  ,  0.96464284]]),\n",
       " array([[0.        , 0.        , 0.64768854, 1.52302986],\n",
       "        [0.        , 0.        , 1.57921282, 0.76743473],\n",
       "        [0.        , 0.54256004, 0.        , 0.        ]]),\n",
       " array([[ 2.41962272e+06, -1.91328024e+07, -2.66318989e+00,\n",
       "         -3.69190065e-01],\n",
       "        [-1.01283112e+07,  3.14247333e+06, -5.74985214e-01,\n",
       "         -1.84029138e+00],\n",
       "        [ 1.46564877e+07, -4.16131379e-01,  6.75282047e+05,\n",
       "         -1.42474819e+07]])]"
      ]
     },
     "execution_count": 115,
     "metadata": {},
     "output_type": "execute_result"
    }
   ],
   "source": [
    "def solution(seed):\n",
    "    answer = 0\n",
    "    np.random.seed(seed)\n",
    "    A = np.random.normal(size=(3,4))\n",
    "    B = np.random.normal(size=(3,4))\n",
    "    C = A*B\n",
    "    D = B.reshape(4,3)\n",
    "    E = A.dot(D)\n",
    "    F = copy.deepcopy(A)\n",
    "    F[F<0.5]=0\n",
    "    G = B/(F+1e-7)\n",
    "    answer = [A,B,C,D,E,F,G]\n",
    "    return answer\n",
    "seed=42\n",
    "solution(seed)"
   ]
  },
  {
   "cell_type": "code",
   "execution_count": null,
   "metadata": {},
   "outputs": [],
   "source": []
  },
  {
   "cell_type": "code",
   "execution_count": null,
   "metadata": {},
   "outputs": [],
   "source": []
  }
 ],
 "metadata": {
  "kernelspec": {
   "display_name": "Python 3",
   "language": "python",
   "name": "python3"
  },
  "language_info": {
   "codemirror_mode": {
    "name": "ipython",
    "version": 3
   },
   "file_extension": ".py",
   "mimetype": "text/x-python",
   "name": "python",
   "nbconvert_exporter": "python",
   "pygments_lexer": "ipython3",
   "version": "3.7.7"
  }
 },
 "nbformat": 4,
 "nbformat_minor": 4
}
